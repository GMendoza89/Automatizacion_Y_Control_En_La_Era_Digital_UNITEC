{
 "cells": [
  {
   "cell_type": "code",
   "execution_count": 1,
   "metadata": {},
   "outputs": [],
   "source": [
    "import pyaudio\n",
    "import wave"
   ]
  },
  {
   "cell_type": "code",
   "execution_count": 5,
   "metadata": {},
   "outputs": [],
   "source": [
    "#Definimos parametros \n",
    "audioFormat = pyaudio.paInt16\n",
    "numchannels = 1\n",
    "recordRate = 44100\n",
    "chunk = 1024\n",
    "duration = 20\n",
    "filename = \"record.wav\"\n"
   ]
  },
  {
   "cell_type": "code",
   "execution_count": 7,
   "metadata": {},
   "outputs": [
    {
     "name": "stdout",
     "output_type": "stream",
     "text": [
      "Grabando . . .\n",
      "Grabación terminada\n"
     ]
    },
    {
     "data": {
      "text/plain": [
       "<bound method PyAudio.terminate of <pyaudio.PyAudio object at 0x10e56ff70>>"
      ]
     },
     "execution_count": 7,
     "metadata": {},
     "output_type": "execute_result"
    }
   ],
   "source": [
    "audio = pyaudio.PyAudio()\n",
    "stream = audio.open(format=audioFormat,channels=1,rate=recordRate,input=True,frames_per_buffer=chunk)\n",
    "print(\"Grabando . . .\")\n",
    "frames =[]\n",
    "\n",
    "for i0 in range(0,int(recordRate/chunk*duration)):\n",
    "    data = stream.read(chunk)\n",
    "    frames.append(data)\n",
    "print(\"Grabación terminada\")\n",
    "stream.stop_stream()\n",
    "stream.close()\n",
    "audio.terminate"
   ]
  },
  {
   "cell_type": "code",
   "execution_count": 8,
   "metadata": {},
   "outputs": [],
   "source": [
    "waveFile = wave.open(filename,'wb')\n",
    "waveFile.setnchannels(numchannels)\n",
    "waveFile.setsampwidth(audio.get_sample_size(audioFormat))\n",
    "waveFile.setframerate(recordRate)\n",
    "waveFile.writeframes(b''.join(frames))\n",
    "waveFile.close()\n"
   ]
  }
 ],
 "metadata": {
  "interpreter": {
   "hash": "aee8b7b246df8f9039afb4144a1f6fd8d2ca17a180786b69acc140d282b71a49"
  },
  "kernelspec": {
   "display_name": "Python 3.9.10 64-bit",
   "language": "python",
   "name": "python3"
  },
  "language_info": {
   "codemirror_mode": {
    "name": "ipython",
    "version": 3
   },
   "file_extension": ".py",
   "mimetype": "text/x-python",
   "name": "python",
   "nbconvert_exporter": "python",
   "pygments_lexer": "ipython3",
   "version": "3.9.10"
  },
  "orig_nbformat": 4
 },
 "nbformat": 4,
 "nbformat_minor": 2
}
